{
 "cells": [
  {
   "cell_type": "markdown",
   "id": "60913279-2a79-4229-a32d-b533e9ea41cd",
   "metadata": {},
   "source": [
    "# Comparing the power-law collision kernels with jump kernels of subordinate processes. "
   ]
  },
  {
   "cell_type": "code",
   "execution_count": 1,
   "id": "0fca03ac-d34a-46d7-b33d-e8949161b952",
   "metadata": {},
   "outputs": [
    {
     "name": "stdout",
     "output_type": "stream",
     "text": [
      "You are using 10 threads. For maximum performance, this number should be near the number of CPU cores that you have in your computer.\n"
     ]
    }
   ],
   "source": [
    "include(\"collisionkernels.jl\")\n",
    "using .CollisionKernels\n",
    "\n",
    "using Printf\n",
    "\n",
    "include(\"subordinate2d.jl\")\n",
    "using .Subordinate2D\n",
    "\n",
    "using Plots\n",
    "println(\"You are using \",Threads.nthreads(),\" threads. For maximum performance, this number should be near the number of CPU cores that you have in your computer.\")"
   ]
  },
  {
   "cell_type": "code",
   "execution_count": 2,
   "id": "7cf92217-3870-4ded-812f-10e064d6b7e4",
   "metadata": {},
   "outputs": [],
   "source": [
    "function draw_nice_pic(νs::Vector{<:Real}, focus::Integer, s1::Array)\n",
    "    @assert 1 <= focus <= size(s1)[1]\n",
    "    println(\"ν = \",νs[focus])\n",
    "    q = qofν(νs[focus],dimension=2)\n",
    "    cq = Cq(q,dimension=2)\n",
    "    cν = Cnu(νs[focus])\n",
    "    θr = range(π/(P+1),π/2,length=P)\n",
    "    θrange = range(π/(P+1),π/2,length=100)\n",
    "    brange = map(θ->symb(θ,q,dim=2),θrange)\n",
    "    srange = cq/cν * s1[focus,:]\n",
    "    plot(θr,(srange),label=\"b_{sub}\", yaxis=:log)\n",
    "    p2 = plot!(θrange,(brange),label=\"b_{col}\", yaxis=:log)\n",
    "    display(p2)\n",
    "    println(\"Graph for ν=\", νs[focus],\" in logarithmic scale\")\n",
    "end\n",
    "\n",
    "function do_everything(P::Integer, νs::Vector{<:Real}, ω::Function)\n",
    "    println(\"Computing the Fourier coefficients of the bump functions\")\n",
    "    @time a,m = pre_sample(P)\n",
    "    println(\"Evaluating the integral operator at each bump function and sampling the kernel\")\n",
    "    @time s1 = sample_subordinate(νs,ω,a,m)\n",
    "\n",
    "    for m in 1:length(νs)\n",
    "        ν = νs[m]\n",
    "        cν = Cnu(ν)\n",
    "        qf = qofν(ν,dimension=2)\n",
    "        cfq = Cq(qf,dimension=2)\n",
    "    \n",
    "        min = 1.\n",
    "        max = 1.\n",
    "        for i in 2:P\n",
    "            θ = (1+i)/(P+1) * π/2\n",
    "            ratio = s1[m,i] / cν / symb(θ,qf,dim=2) * cfq\n",
    "            if ratio<min\n",
    "                min = ratio\n",
    "            end\n",
    "            if ratio>max\n",
    "                max = ratio\n",
    "            end\n",
    "        end\n",
    "        println(\"ν= \",ν,\"   min ratio:\",min/max)\n",
    "    end\n",
    "\n",
    "    println()\n",
    "    println(\"Drawing some pictures\")\n",
    "    println()\n",
    "    \n",
    "    draw_nice_pic(νs,1,s1)\n",
    "    draw_nice_pic(νs,length(νs),s1)\n",
    "end;\n",
    "\n",
    "\n",
    "function generate_table(P::Integer, qs::Vector{<:Real}, ω::Function)\n",
    "    νs = map(p->νofq(p,dimension=2),qs)\n",
    "    println(\"Computing the Fourier coefficients of the bump functions\")\n",
    "    @time a,m = pre_sample(P)\n",
    "    println(\"Evaluating the integral operator at each bump function and sampling the kernel\")\n",
    "    @time s1 = sample_subordinate(νs,ω,a,m)\n",
    "\n",
    "    println(\"\\\\begin{tabular}{|r|r|r|r|r|r|}\")\n",
    "    println(\"\\\\hline\")\n",
    "    println(\"\\$q\\$ & \\$2s\\$ & \\$\\\\gamma\\$ & \\$c_2/C_1\\$ & lower bound for \\$2\\\\sqrt{\\\\Lambda_b}\\$ \\\\\\\\\")\n",
    "    println(\"\\\\hline\")\n",
    "    \n",
    "    for m in 1:length(νs)\n",
    "        ν = νs[m]\n",
    "        cν = Cnu(ν)\n",
    "        qf = qofν(ν,dimension=2)\n",
    "        cfq = Cq(qf,dimension=2)\n",
    "    \n",
    "        min = 1.\n",
    "        max = 1.\n",
    "        for i in 2:P\n",
    "            θ = (1+i)/(P+1) * π/2\n",
    "            ratio = s1[m,i] / cν / symb(θ,qf,dim=2) * cfq\n",
    "            if ratio<min\n",
    "                min = ratio\n",
    "            end\n",
    "            if ratio>max\n",
    "                max = ratio\n",
    "            end\n",
    "        end\n",
    "        Λb = compute_Λb(ν, θ->ω(θ,ν))\n",
    "        @printf \"%.2f & %.2f & %.2f & %.2f & %.2f \\\\\\\\\\n\" qf ν (qf-3)/(qf-1) min/max 2*sqrt(Λb*min/max)\n",
    "\n",
    "    end\n",
    "\n",
    "    println(\"\\\\hline\")\n",
    "    println(\"\\\\end{tabular}\")\n",
    "end;"
   ]
  },
  {
   "cell_type": "markdown",
   "id": "d0572f0b-5d19-4301-aae3-33ada00d8255",
   "metadata": {},
   "source": [
    "Let $b_{col}(\\theta)$ be the collision kernel corresponding to a power-law repulsive force with exponent $q$. \\textbf{In 2D}, these kernels are known to have the following behavior for small angles.\n",
    "$$ b_{col}(\\theta) = C_q \\theta^{-1-\\nu}. $$\n",
    "The exact formula for $b_{col}$ is not explicit. We want to compare it with a kernel $b_{sub}$ of the form\n",
    "$$ b_{sub}(\\theta) = \\int_0^\\infty \\omega(t) h_t(\\theta).$$\n",
    "Here $h_t$ is the heat kernel centered at the north pole $\\theta=0$. The weight $\\omega(t)$ is an arbitrary weight function. We proved that for any such kernel $b_{sub}$, the inequality (1.4) in our paper holds with constant $\\Lambda_{sub} > 2$."
   ]
  },
  {
   "cell_type": "markdown",
   "id": "a0b9af0c-7abe-4ffe-b003-6e45c6fba27b",
   "metadata": {},
   "source": [
    "We want to apply the followig fact. If for any weight $\\omega \\geq 0$, we find two constants $c_1$ and $C_2$ such that\n",
    "$$c_1 (b_{sub}(\\theta) + b_{sub}(\\pi-\\theta)) \\leq (b_{col}(\\theta)+b_{col}(\\pi-\\theta)) \\leq C_2 (b_{sub}(\\theta) + b_{sub}(\\pi-\\theta)),$$\n",
    "then the inequality (1.4) holds for $b_{col}$ with parameter $c_1 \\cdot \\Lambda_{sub} / C_2$."
   ]
  },
  {
   "cell_type": "markdown",
   "id": "a9407863-d486-4a44-9196-310d5c915af1",
   "metadata": {},
   "source": [
    "The plan is to compute $b_{col}$ and $b_{sub}$ numerically some weight. The best one I have been able to find for the range $\\nu \\in [1.,2)$ so far is\n",
    "$$ \\omega(t) := \\dots.$$\n",
    "We then estimate the value of $C_2/c_1$ for a collection of values of $\\nu \\in [1,2]$."
   ]
  },
  {
   "cell_type": "markdown",
   "id": "c39bdf42-30e5-4dd4-9122-574cfdb4dc92",
   "metadata": {},
   "source": [
    "To draw the graphs, we renormalize $b_{sub}$ so that it has the same asymptotic behavior as $b_{col}$ at $\\theta = 0$.\n",
    "\n",
    "The blue line corresponds to the kernel $b_{sub}$ renormalized. The red line is the kernel $b_{col}$. In most of the graphs the lines are one of top of the other. We can barely recognize there are two distinct curves.\n",
    "\n",
    "The graphs are in logarithmic scale."
   ]
  },
  {
   "cell_type": "code",
   "execution_count": null,
   "id": "a127726f-ab03-4645-9eac-da51f720a5d2",
   "metadata": {},
   "outputs": [
    {
     "name": "stdout",
     "output_type": "stream",
     "text": [
      "Computing the Fourier coefficients of the bump functions\n",
      "  0.909084 seconds (139.97 M allocations: 2.095 GiB, 16.22% gc time, 211.32% compilation time)\n",
      "Evaluating the integral operator at each bump function and sampling the kernel\n",
      "  1.163930 seconds (697.20 k allocations: 48.359 MiB, 939.57% compilation time)\n",
      "ν= 1.0   min ratio:0.9996946487108019\n",
      "ν= 1.25   min ratio:0.952954770581782\n",
      "ν= 1.5   min ratio:0.9785132999781787\n",
      "ν= 1.75   min ratio:0.9513157036010426\n",
      "ν= 1.925   min ratio:0.9336691744286573\n",
      "ν= 1.95   min ratio:0.9321941085607522\n",
      "ν= 1.99   min ratio:0.9304221732006598\n",
      "ν= 1.999   min ratio:0.9301495940329145\n",
      "\n",
      "Drawing some pictures\n",
      "\n",
      "ν = 1.0\n"
     ]
    }
   ],
   "source": [
    "# This is the only cell you may want to edit unless you know what you are doing.\n",
    "\n",
    "# P is the number of points used in the sample of the subordinate kernel\n",
    "# The subordinate kernel will be compared with the collision kernel at P equidistant points between 0 and π/2\n",
    "# The computation is slow. Do not make P too large.\n",
    "# Use a small value of P to experiment (P=12)\n",
    "# and a larger one for the final computation (P=50)\n",
    "P = 20\n",
    "\n",
    "# This is the list of values of ν for which we will sample the ratio between kernels\n",
    "# Be aware that if you choose ν too close to 2, strange things may happen due to numerical error.\n",
    "#νs = [1.1,1.25,1.5,1.75,1.89,1.9,1.925,1.95,1.975,1.99]\n",
    "νs = [1,1.25,1.5,1.75,1.925,1.95,1.99,1.999]\n",
    "\n",
    "# This is the function ω that we use to produce the subordinate kernel\n",
    "function ω(t,ν) \n",
    "        return 1 + 2*(ν-1)^2*(1-exp(-2t))\n",
    "end\n",
    "\n",
    "# This one is good for ν in [1,1.5]\n",
    "# ω(t,ν) = 1 + ((ν-1) + ν*(ν-1)^2)*(1-1/(t/2+1))\n",
    "\n",
    "# This one is good for ν in [1,1.9] But it is not so good for ν=1.99\n",
    "# ω(t,ν) = 1 + sqrt(2-ν) * (8*(ν-1)^3)*(1-exp(-t)\n",
    "\n",
    "do_everything(P,νs,ω)"
   ]
  },
  {
   "cell_type": "code",
   "execution_count": null,
   "id": "fb1f4908-37f5-4ccd-97ee-035161c3a984",
   "metadata": {},
   "outputs": [],
   "source": [
    "# We also want to estimate the values of $c_K$ and $C_P$ for these kernels.\n",
    "using QuadGK\n",
    "\n",
    "Λlocal = 4.\n",
    "\n",
    "function compute_cK(ν::Real, ω::Function)\n",
    "    factor = Subordinate2D.subordinate_factor(ν)\n",
    "    Cν = 1/(2*factor)\n",
    "    return quadgk(t -> Cν*ω(t)*t^(-1-ν/2)*(1-exp(-2Λlocal *t)),0,Inf)[1]\n",
    "end\n",
    "\n",
    "function compute_cP(ν::Real, ω::Function)\n",
    "    factor = Subordinate2D.subordinate_factor(ν)\n",
    "    Cν = 1/(2*factor)\n",
    "    return quadgk(t -> Cν*ω(t)*t^(-1-ν/2)*(1-exp(-4*t)),0,Inf)[1]\n",
    "end\n",
    "\n",
    "function compute_Λb(ν::Real, ω::Function)\n",
    "    return 2*compute_cK(ν,ω) / compute_cP(ν,ω)\n",
    "end"
   ]
  },
  {
   "cell_type": "code",
   "execution_count": null,
   "id": "8020cef5-c3de-48f6-af3f-5cdb6b037ade",
   "metadata": {},
   "outputs": [],
   "source": [
    "ν = 1.5\n",
    "println(\"For ν = \",ν)\n",
    "println(\"cK= \",compute_cK(ν,t->ω(t,ν)),\"  cP= \",compute_cP(ν,t->ω(t,ν)), \"   Λb=\",compute_Λb(ν,t->ω(t,ν)))"
   ]
  },
  {
   "cell_type": "code",
   "execution_count": null,
   "id": "ccc909d2-1ccc-472c-8f14-ac20c59e0f6f",
   "metadata": {},
   "outputs": [],
   "source": [
    "P=30\n",
    "qs = [1.99,1.9,1.8,1.7,1.6,1.55,1.51,1.501]\n",
    "#qs = [1.55,1.51,1.505,1.501]\n",
    "generate_table(P,qs,ω)"
   ]
  }
 ],
 "metadata": {
  "kernelspec": {
   "display_name": "Julia 1.10.4",
   "language": "julia",
   "name": "julia-1.10"
  },
  "language_info": {
   "file_extension": ".jl",
   "mimetype": "application/julia",
   "name": "julia",
   "version": "1.10.4"
  }
 },
 "nbformat": 4,
 "nbformat_minor": 5
}
